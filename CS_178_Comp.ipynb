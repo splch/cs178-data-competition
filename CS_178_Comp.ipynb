{
  "nbformat": 4,
  "nbformat_minor": 0,
  "metadata": {
    "accelerator": "GPU",
    "colab": {
      "name": "CS 178 Comp.ipynb",
      "provenance": [],
      "collapsed_sections": []
    },
    "kernelspec": {
      "display_name": "Python 3",
      "name": "python3"
    },
    "language_info": {
      "name": "python"
    }
  },
  "cells": [
    {
      "cell_type": "code",
      "metadata": {
        "id": "cvF_GobN4RvP"
      },
      "source": [
        "import numpy as np\n",
        "import pandas as pd\n",
        "import seaborn as sns\n",
        "import matplotlib.pyplot as plt\n",
        "\n",
        "import torch\n",
        "import torch.nn as nn\n",
        "import torch.optim as optim\n",
        "from torch.utils.data import Dataset, DataLoader, WeightedRandomSampler\n",
        "\n",
        "from sklearn.preprocessing import StandardScaler    \n",
        "from sklearn.model_selection import train_test_split\n",
        "from sklearn.metrics import confusion_matrix, classification_report"
      ],
      "execution_count": 70,
      "outputs": []
    },
    {
      "cell_type": "code",
      "metadata": {
        "colab": {
          "base_uri": "https://localhost:8080/",
          "height": 204
        },
        "id": "lWeYH_Cc4U3p",
        "outputId": "6f40814a-e4ff-4a82-8d85-a1a6424295a7"
      },
      "source": [
        "df = pd.read_csv('dataset.csv').sample(frac=1)\n",
        "\n",
        "df.head()"
      ],
      "execution_count": 71,
      "outputs": [
        {
          "output_type": "execute_result",
          "data": {
            "text/html": [
              "<div>\n",
              "<style scoped>\n",
              "    .dataframe tbody tr th:only-of-type {\n",
              "        vertical-align: middle;\n",
              "    }\n",
              "\n",
              "    .dataframe tbody tr th {\n",
              "        vertical-align: top;\n",
              "    }\n",
              "\n",
              "    .dataframe thead th {\n",
              "        text-align: right;\n",
              "    }\n",
              "</style>\n",
              "<table border=\"1\" class=\"dataframe\">\n",
              "  <thead>\n",
              "    <tr style=\"text-align: right;\">\n",
              "      <th></th>\n",
              "      <th>Col1</th>\n",
              "      <th>Col2</th>\n",
              "      <th>Col3</th>\n",
              "      <th>Col4</th>\n",
              "      <th>Col5</th>\n",
              "      <th>Col6</th>\n",
              "      <th>Col7</th>\n",
              "      <th>Col8</th>\n",
              "      <th>Col9</th>\n",
              "      <th>Col10</th>\n",
              "      <th>Col11</th>\n",
              "      <th>Col12</th>\n",
              "      <th>Col13</th>\n",
              "      <th>Col14</th>\n",
              "      <th>Class_att</th>\n",
              "    </tr>\n",
              "  </thead>\n",
              "  <tbody>\n",
              "    <tr>\n",
              "      <th>50977</th>\n",
              "      <td>238.0</td>\n",
              "      <td>228.0</td>\n",
              "      <td>241.25</td>\n",
              "      <td>233.34</td>\n",
              "      <td>30016.0</td>\n",
              "      <td>4443.0</td>\n",
              "      <td>0.0</td>\n",
              "      <td>2.05440</td>\n",
              "      <td>5.5598</td>\n",
              "      <td>1.4635</td>\n",
              "      <td>1.8777</td>\n",
              "      <td>1.0739</td>\n",
              "      <td>3.4964</td>\n",
              "      <td>0.0</td>\n",
              "      <td>1.0</td>\n",
              "    </tr>\n",
              "    <tr>\n",
              "      <th>190707</th>\n",
              "      <td>245.0</td>\n",
              "      <td>240.0</td>\n",
              "      <td>248.00</td>\n",
              "      <td>248.00</td>\n",
              "      <td>923.0</td>\n",
              "      <td>0.0</td>\n",
              "      <td>0.0</td>\n",
              "      <td>1.79290</td>\n",
              "      <td>3.5697</td>\n",
              "      <td>0.0000</td>\n",
              "      <td>3.4155</td>\n",
              "      <td>1.7056</td>\n",
              "      <td>20.0000</td>\n",
              "      <td>1.2</td>\n",
              "      <td>0.0</td>\n",
              "    </tr>\n",
              "    <tr>\n",
              "      <th>135539</th>\n",
              "      <td>227.0</td>\n",
              "      <td>224.0</td>\n",
              "      <td>237.22</td>\n",
              "      <td>229.26</td>\n",
              "      <td>681.0</td>\n",
              "      <td>364.0</td>\n",
              "      <td>0.0</td>\n",
              "      <td>2.52590</td>\n",
              "      <td>9.5246</td>\n",
              "      <td>2.8050</td>\n",
              "      <td>5.0556</td>\n",
              "      <td>4.2254</td>\n",
              "      <td>1.6053</td>\n",
              "      <td>36.4</td>\n",
              "      <td>1.0</td>\n",
              "    </tr>\n",
              "    <tr>\n",
              "      <th>232078</th>\n",
              "      <td>240.0</td>\n",
              "      <td>218.0</td>\n",
              "      <td>239.90</td>\n",
              "      <td>219.34</td>\n",
              "      <td>6644.0</td>\n",
              "      <td>1951.0</td>\n",
              "      <td>54.0</td>\n",
              "      <td>0.65605</td>\n",
              "      <td>8.3599</td>\n",
              "      <td>4.5605</td>\n",
              "      <td>3.0742</td>\n",
              "      <td>1.7571</td>\n",
              "      <td>1.8490</td>\n",
              "      <td>0.0</td>\n",
              "      <td>1.0</td>\n",
              "    </tr>\n",
              "    <tr>\n",
              "      <th>192421</th>\n",
              "      <td>239.0</td>\n",
              "      <td>230.0</td>\n",
              "      <td>241.90</td>\n",
              "      <td>233.96</td>\n",
              "      <td>2479.0</td>\n",
              "      <td>367.0</td>\n",
              "      <td>0.0</td>\n",
              "      <td>3.23690</td>\n",
              "      <td>5.6980</td>\n",
              "      <td>1.1520</td>\n",
              "      <td>5.2961</td>\n",
              "      <td>3.1215</td>\n",
              "      <td>19.9510</td>\n",
              "      <td>0.0</td>\n",
              "      <td>0.0</td>\n",
              "    </tr>\n",
              "  </tbody>\n",
              "</table>\n",
              "</div>"
            ],
            "text/plain": [
              "         Col1   Col2    Col3    Col4  ...   Col12    Col13  Col14  Class_att\n",
              "50977   238.0  228.0  241.25  233.34  ...  1.0739   3.4964    0.0        1.0\n",
              "190707  245.0  240.0  248.00  248.00  ...  1.7056  20.0000    1.2        0.0\n",
              "135539  227.0  224.0  237.22  229.26  ...  4.2254   1.6053   36.4        1.0\n",
              "232078  240.0  218.0  239.90  219.34  ...  1.7571   1.8490    0.0        1.0\n",
              "192421  239.0  230.0  241.90  233.96  ...  3.1215  19.9510    0.0        0.0\n",
              "\n",
              "[5 rows x 15 columns]"
            ]
          },
          "metadata": {
            "tags": []
          },
          "execution_count": 71
        }
      ]
    },
    {
      "cell_type": "code",
      "metadata": {
        "colab": {
          "base_uri": "https://localhost:8080/",
          "height": 297
        },
        "id": "qXwB6v1554Iy",
        "outputId": "a0a9dc5a-9613-4513-e215-c516f1b531e6"
      },
      "source": [
        "sns.countplot(x = 'Class_att', data=df)"
      ],
      "execution_count": 72,
      "outputs": [
        {
          "output_type": "execute_result",
          "data": {
            "text/plain": [
              "<matplotlib.axes._subplots.AxesSubplot at 0x7f2a422a7b50>"
            ]
          },
          "metadata": {
            "tags": []
          },
          "execution_count": 72
        },
        {
          "output_type": "display_data",
          "data": {
            "image/png": "[encoded data removed]",
            "text/plain": [
              "<Figure size 432x288 with 1 Axes>"
            ]
          },
          "metadata": {
            "tags": [],
            "needs_background": "light"
          }
        }
      ]
    },
    {
      "cell_type": "code",
      "metadata": {
        "id": "NRWtQEVU6BII"
      },
      "source": [
        "X = df.iloc[:, 0:-1]\n",
        "y = df.iloc[:, -1].astype(int)"
      ],
      "execution_count": 73,
      "outputs": []
    },
    {
      "cell_type": "code",
      "metadata": {
        "id": "B-Tkp5kL6Wk9"
      },
      "source": [
        "X_train, X_test, y_train, y_test = train_test_split(X, y, test_size=0.001, random_state=69)"
      ],
      "execution_count": 74,
      "outputs": []
    },
    {
      "cell_type": "code",
      "metadata": {
        "id": "pObNGNAg6plJ"
      },
      "source": [
        "scaler = StandardScaler()\n",
        "X_train = scaler.fit_transform(X_train)\n",
        "X_test = scaler.fit_transform(X_test)"
      ],
      "execution_count": 75,
      "outputs": []
    },
    {
      "cell_type": "code",
      "metadata": {
        "id": "yZeuE1v86wfa"
      },
      "source": [
        "EPOCHS = 150\n",
        "BATCH_SIZE = 256\n",
        "LEARNING_RATE = 0.001"
      ],
      "execution_count": 76,
      "outputs": []
    },
    {
      "cell_type": "code",
      "metadata": {
        "id": "bGWnP_vZBZrX"
      },
      "source": [
        "labels_unique, counts = np.unique(y_train, return_counts=True)\n",
        "class_weights = [sum(counts) / c for c in counts]\n",
        "example_weights = [class_weights[e] for e in y_train]"
      ],
      "execution_count": 77,
      "outputs": []
    },
    {
      "cell_type": "code",
      "metadata": {
        "id": "8OPH_y7GBoMR"
      },
      "source": [
        "sampler = WeightedRandomSampler(example_weights, len(y_train))"
      ],
      "execution_count": 78,
      "outputs": []
    },
    {
      "cell_type": "code",
      "metadata": {
        "id": "CwjLjKSw6x6N"
      },
      "source": [
        "## train data\n",
        "class trainData(Dataset):\n",
        "    \n",
        "    def __init__(self, X_data, y_data):\n",
        "        self.X_data = X_data\n",
        "        self.y_data = y_data\n",
        "        \n",
        "    def __getitem__(self, index):\n",
        "        return self.X_data[index], self.y_data[index]\n",
        "        \n",
        "    def __len__ (self):\n",
        "        return len(self.X_data)\n",
        "\n",
        "\n",
        "train_data = trainData(torch.FloatTensor(X_train), \n",
        "                       torch.FloatTensor(y_train))\n",
        "## test data    \n",
        "class testData(Dataset):\n",
        "    \n",
        "    def __init__(self, X_data):\n",
        "        self.X_data = X_data\n",
        "        \n",
        "    def __getitem__(self, index):\n",
        "        return self.X_data[index]\n",
        "        \n",
        "    def __len__ (self):\n",
        "        return len(self.X_data)\n",
        "    \n",
        "\n",
        "test_data = testData(torch.FloatTensor(X_test))"
      ],
      "execution_count": 79,
      "outputs": []
    },
    {
      "cell_type": "code",
      "metadata": {
        "id": "p6LCcKRm6zto"
      },
      "source": [
        "train_loader = DataLoader(dataset=train_data, sampler=sampler, batch_size=BATCH_SIZE)\n",
        "test_loader = DataLoader(dataset=test_data, batch_size=1)"
      ],
      "execution_count": 80,
      "outputs": []
    },
    {
      "cell_type": "code",
      "metadata": {
        "id": "R_qZHY7561Nw"
      },
      "source": [
        "class binaryClassification(nn.Module):\n",
        "    def __init__(self):\n",
        "        super(binaryClassification, self).__init__()\n",
        "        # Number of input features is 14.\n",
        "        self.layer_1 = nn.Linear(14, 64) \n",
        "        self.layer_2 = nn.Linear(64, 128)\n",
        "        self.layer_3 = nn.Linear(128, 256)\n",
        "        self.layer_4 = nn.Linear(256, 128)\n",
        "        self.layer_5 = nn.Linear(128, 64)\n",
        "        self.layer_6 = nn.Linear(64, 32)\n",
        "        self.layer_out = nn.Linear(32, 1) \n",
        "        \n",
        "        self.relu = nn.ReLU()\n",
        "        self.dropout = nn.Dropout(p=0.1)\n",
        "        self.batchnorm1 = nn.BatchNorm1d(64)\n",
        "        self.batchnorm2 = nn.BatchNorm1d(128)\n",
        "        self.batchnorm3 = nn.BatchNorm1d(256)\n",
        "        self.batchnorm4 = nn.BatchNorm1d(128)\n",
        "        self.batchnorm5 = nn.BatchNorm1d(64)\n",
        "        self.batchnorm6 = nn.BatchNorm1d(32)\n",
        "        \n",
        "    def forward(self, inputs):\n",
        "        x = self.relu(self.layer_1(inputs))\n",
        "        x = self.batchnorm1(x)\n",
        "        x = self.relu(self.layer_2(x))\n",
        "        x = self.batchnorm2(x)\n",
        "        x = self.relu(self.layer_3(x))\n",
        "        x = self.batchnorm3(x)\n",
        "        x = self.relu(self.layer_4(x))\n",
        "        x = self.batchnorm4(x)\n",
        "        x = self.relu(self.layer_5(x))\n",
        "        x = self.batchnorm5(x)\n",
        "        x = self.relu(self.layer_6(x))\n",
        "        x = self.batchnorm6(x)\n",
        "        x = self.dropout(x)\n",
        "        x = self.layer_out(x)\n",
        "        \n",
        "        return x"
      ],
      "execution_count": 81,
      "outputs": []
    },
    {
      "cell_type": "code",
      "metadata": {
        "colab": {
          "base_uri": "https://localhost:8080/"
        },
        "id": "Zi3jGL3n63DI",
        "outputId": "217f26b3-d0eb-40dc-cc71-6005f9384bc4"
      },
      "source": [
        "device = torch.device(\"cuda:0\" if torch.cuda.is_available() else \"cpu\")\n",
        "\n",
        "print(device)"
      ],
      "execution_count": 82,
      "outputs": [
        {
          "output_type": "stream",
          "text": [
            "cuda:0\n"
          ],
          "name": "stdout"
        }
      ]
    },
    {
      "cell_type": "code",
      "metadata": {
        "colab": {
          "base_uri": "https://localhost:8080/"
        },
        "id": "Dz07MLbX653x",
        "outputId": "4458d63f-a7f1-424f-e39f-63b9e8a4b82d"
      },
      "source": [
        "model = binaryClassification()\n",
        "model.to(device)\n",
        "print(model)\n",
        "criterion = nn.BCEWithLogitsLoss()\n",
        "optimizer = optim.Adam(model.parameters(), lr=LEARNING_RATE)"
      ],
      "execution_count": 83,
      "outputs": [
        {
          "output_type": "stream",
          "text": [
            "binaryClassification(\n",
            "  (layer_1): Linear(in_features=14, out_features=64, bias=True)\n",
            "  (layer_2): Linear(in_features=64, out_features=128, bias=True)\n",
            "  (layer_3): Linear(in_features=128, out_features=256, bias=True)\n",
            "  (layer_4): Linear(in_features=256, out_features=128, bias=True)\n",
            "  (layer_5): Linear(in_features=128, out_features=64, bias=True)\n",
            "  (layer_6): Linear(in_features=64, out_features=32, bias=True)\n",
            "  (layer_out): Linear(in_features=32, out_features=1, bias=True)\n",
            "  (relu): ReLU()\n",
            "  (dropout): Dropout(p=0.1, inplace=False)\n",
            "  (batchnorm1): BatchNorm1d(64, eps=1e-05, momentum=0.1, affine=True, track_running_stats=True)\n",
            "  (batchnorm2): BatchNorm1d(128, eps=1e-05, momentum=0.1, affine=True, track_running_stats=True)\n",
            "  (batchnorm3): BatchNorm1d(256, eps=1e-05, momentum=0.1, affine=True, track_running_stats=True)\n",
            "  (batchnorm4): BatchNorm1d(128, eps=1e-05, momentum=0.1, affine=True, track_running_stats=True)\n",
            "  (batchnorm5): BatchNorm1d(64, eps=1e-05, momentum=0.1, affine=True, track_running_stats=True)\n",
            "  (batchnorm6): BatchNorm1d(32, eps=1e-05, momentum=0.1, affine=True, track_running_stats=True)\n",
            ")\n"
          ],
          "name": "stdout"
        }
      ]
    },
    {
      "cell_type": "code",
      "metadata": {
        "id": "Ve1lmO1t7Ui1"
      },
      "source": [
        "def binary_acc(y_pred, y_test):\n",
        "    y_pred_tag = torch.round(torch.sigmoid(y_pred))\n",
        "\n",
        "    correct_results_sum = (y_pred_tag == y_test).sum().float()\n",
        "    acc = correct_results_sum/y_test.shape[0]\n",
        "    acc = torch.round(acc * 100)\n",
        "    \n",
        "    return acc"
      ],
      "execution_count": 84,
      "outputs": []
    },
    {
      "cell_type": "code",
      "metadata": {
        "colab": {
          "base_uri": "https://localhost:8080/",
          "height": 1000
        },
        "id": "0RFNTfsy7X_s",
        "outputId": "0d905ae1-5dc3-423c-ea67-2c645c77d00e"
      },
      "source": [
        "losses = []\n",
        "accs = []\n",
        "\n",
        "model.train()\n",
        "for e in range(1, EPOCHS+1):\n",
        "    epoch_loss = 0\n",
        "    epoch_acc = 0\n",
        "    for X_batch, y_batch in train_loader:\n",
        "        X_batch, y_batch = X_batch.to(device), y_batch.to(device)\n",
        "        optimizer.zero_grad()\n",
        "        \n",
        "        y_pred = model(X_batch)\n",
        "        \n",
        "        loss = criterion(y_pred, y_batch.unsqueeze(1))\n",
        "        acc = binary_acc(y_pred, y_batch.unsqueeze(1))\n",
        "        \n",
        "        loss.backward()\n",
        "        optimizer.step()\n",
        "        \n",
        "        epoch_loss += loss.item()\n",
        "        epoch_acc += acc.item()\n",
        "        \n",
        "    loss = epoch_loss/len(train_loader)\n",
        "    acc = epoch_acc/len(train_loader)\n",
        "\n",
        "    losses.append(loss)\n",
        "    accs.append(acc)\n",
        "\n",
        "    print(f'Epoch {e+0:03}: | Loss: {loss:.5f} | Acc: {acc:.3f}')\n",
        "\n",
        "plt.plot(range(1, EPOCHS+1), losses)\n",
        "plt.show()"
      ],
      "execution_count": 85,
      "outputs": [
        {
          "output_type": "stream",
          "text": [
            "Epoch 001: | Loss: 0.63769 | Acc: 63.196\n",
            "Epoch 002: | Loss: 0.62456 | Acc: 64.605\n",
            "Epoch 003: | Loss: 0.61764 | Acc: 65.167\n",
            "Epoch 004: | Loss: 0.61033 | Acc: 65.972\n",
            "Epoch 005: | Loss: 0.60464 | Acc: 66.389\n",
            "Epoch 006: | Loss: 0.59765 | Acc: 67.104\n",
            "Epoch 007: | Loss: 0.59087 | Acc: 67.692\n",
            "Epoch 008: | Loss: 0.58497 | Acc: 68.190\n",
            "Epoch 009: | Loss: 0.58203 | Acc: 68.458\n",
            "Epoch 010: | Loss: 0.57552 | Acc: 68.994\n",
            "Epoch 011: | Loss: 0.57058 | Acc: 69.388\n",
            "Epoch 012: | Loss: 0.56612 | Acc: 69.582\n",
            "Epoch 013: | Loss: 0.56146 | Acc: 70.020\n",
            "Epoch 014: | Loss: 0.55763 | Acc: 70.456\n",
            "Epoch 015: | Loss: 0.55445 | Acc: 70.629\n",
            "Epoch 016: | Loss: 0.55065 | Acc: 70.939\n",
            "Epoch 017: | Loss: 0.54657 | Acc: 71.236\n",
            "Epoch 018: | Loss: 0.54378 | Acc: 71.443\n",
            "Epoch 019: | Loss: 0.54003 | Acc: 71.648\n",
            "Epoch 020: | Loss: 0.53607 | Acc: 71.985\n",
            "Epoch 021: | Loss: 0.53342 | Acc: 72.284\n",
            "Epoch 022: | Loss: 0.53216 | Acc: 72.233\n",
            "Epoch 023: | Loss: 0.52820 | Acc: 72.583\n",
            "Epoch 024: | Loss: 0.52736 | Acc: 72.656\n",
            "Epoch 025: | Loss: 0.52380 | Acc: 72.825\n",
            "Epoch 026: | Loss: 0.52149 | Acc: 73.026\n",
            "Epoch 027: | Loss: 0.51915 | Acc: 73.191\n",
            "Epoch 028: | Loss: 0.51829 | Acc: 73.258\n",
            "Epoch 029: | Loss: 0.51671 | Acc: 73.406\n",
            "Epoch 030: | Loss: 0.51263 | Acc: 73.667\n",
            "Epoch 031: | Loss: 0.51111 | Acc: 73.654\n",
            "Epoch 032: | Loss: 0.50965 | Acc: 73.883\n",
            "Epoch 033: | Loss: 0.50843 | Acc: 73.850\n",
            "Epoch 034: | Loss: 0.50677 | Acc: 74.061\n",
            "Epoch 035: | Loss: 0.50403 | Acc: 74.328\n",
            "Epoch 036: | Loss: 0.50347 | Acc: 74.307\n",
            "Epoch 037: | Loss: 0.50065 | Acc: 74.531\n",
            "Epoch 038: | Loss: 0.49877 | Acc: 74.616\n",
            "Epoch 039: | Loss: 0.49812 | Acc: 74.629\n",
            "Epoch 040: | Loss: 0.49625 | Acc: 74.686\n",
            "Epoch 041: | Loss: 0.49409 | Acc: 74.937\n",
            "Epoch 042: | Loss: 0.49416 | Acc: 74.831\n",
            "Epoch 043: | Loss: 0.49347 | Acc: 74.926\n",
            "Epoch 044: | Loss: 0.49194 | Acc: 75.110\n",
            "Epoch 045: | Loss: 0.48982 | Acc: 75.137\n",
            "Epoch 046: | Loss: 0.48928 | Acc: 75.163\n",
            "Epoch 047: | Loss: 0.48830 | Acc: 75.238\n",
            "Epoch 048: | Loss: 0.48756 | Acc: 75.264\n",
            "Epoch 049: | Loss: 0.48438 | Acc: 75.570\n",
            "Epoch 050: | Loss: 0.48463 | Acc: 75.404\n",
            "Epoch 051: | Loss: 0.48369 | Acc: 75.458\n",
            "Epoch 052: | Loss: 0.48110 | Acc: 75.733\n",
            "Epoch 053: | Loss: 0.47985 | Acc: 75.713\n",
            "Epoch 054: | Loss: 0.48023 | Acc: 75.642\n",
            "Epoch 055: | Loss: 0.47907 | Acc: 75.935\n",
            "Epoch 056: | Loss: 0.47697 | Acc: 75.933\n",
            "Epoch 057: | Loss: 0.47774 | Acc: 75.899\n",
            "Epoch 058: | Loss: 0.47644 | Acc: 76.075\n",
            "Epoch 059: | Loss: 0.47697 | Acc: 75.910\n",
            "Epoch 060: | Loss: 0.47401 | Acc: 76.114\n",
            "Epoch 061: | Loss: 0.47169 | Acc: 76.330\n",
            "Epoch 062: | Loss: 0.47010 | Acc: 76.370\n",
            "Epoch 063: | Loss: 0.47117 | Acc: 76.284\n",
            "Epoch 064: | Loss: 0.47169 | Acc: 76.286\n",
            "Epoch 065: | Loss: 0.47032 | Acc: 76.428\n",
            "Epoch 066: | Loss: 0.46972 | Acc: 76.364\n",
            "Epoch 067: | Loss: 0.46818 | Acc: 76.442\n",
            "Epoch 068: | Loss: 0.46779 | Acc: 76.523\n",
            "Epoch 069: | Loss: 0.46807 | Acc: 76.393\n",
            "Epoch 070: | Loss: 0.46719 | Acc: 76.547\n",
            "Epoch 071: | Loss: 0.46544 | Acc: 76.616\n",
            "Epoch 072: | Loss: 0.46445 | Acc: 76.760\n",
            "Epoch 073: | Loss: 0.46238 | Acc: 76.847\n",
            "Epoch 074: | Loss: 0.46367 | Acc: 76.729\n",
            "Epoch 075: | Loss: 0.46366 | Acc: 76.687\n",
            "Epoch 076: | Loss: 0.46166 | Acc: 76.872\n",
            "Epoch 077: | Loss: 0.46144 | Acc: 76.944\n",
            "Epoch 078: | Loss: 0.45951 | Acc: 77.080\n",
            "Epoch 079: | Loss: 0.46032 | Acc: 76.994\n",
            "Epoch 080: | Loss: 0.46121 | Acc: 76.886\n",
            "Epoch 081: | Loss: 0.45899 | Acc: 77.064\n",
            "Epoch 082: | Loss: 0.45856 | Acc: 77.011\n",
            "Epoch 083: | Loss: 0.45843 | Acc: 77.173\n",
            "Epoch 084: | Loss: 0.45828 | Acc: 77.040\n",
            "Epoch 085: | Loss: 0.45558 | Acc: 77.319\n",
            "Epoch 086: | Loss: 0.45703 | Acc: 77.048\n",
            "Epoch 087: | Loss: 0.45397 | Acc: 77.324\n",
            "Epoch 088: | Loss: 0.45410 | Acc: 77.372\n",
            "Epoch 089: | Loss: 0.45347 | Acc: 77.313\n",
            "Epoch 090: | Loss: 0.45220 | Acc: 77.436\n",
            "Epoch 091: | Loss: 0.45154 | Acc: 77.516\n",
            "Epoch 092: | Loss: 0.45248 | Acc: 77.360\n",
            "Epoch 093: | Loss: 0.45262 | Acc: 77.477\n",
            "Epoch 094: | Loss: 0.45300 | Acc: 77.404\n",
            "Epoch 095: | Loss: 0.45047 | Acc: 77.572\n",
            "Epoch 096: | Loss: 0.45016 | Acc: 77.576\n",
            "Epoch 097: | Loss: 0.45061 | Acc: 77.537\n",
            "Epoch 098: | Loss: 0.44741 | Acc: 77.738\n",
            "Epoch 099: | Loss: 0.44700 | Acc: 77.721\n",
            "Epoch 100: | Loss: 0.44895 | Acc: 77.591\n",
            "Epoch 101: | Loss: 0.44830 | Acc: 77.680\n",
            "Epoch 102: | Loss: 0.44745 | Acc: 77.665\n",
            "Epoch 103: | Loss: 0.44737 | Acc: 77.728\n",
            "Epoch 104: | Loss: 0.44681 | Acc: 77.773\n",
            "Epoch 105: | Loss: 0.44716 | Acc: 77.688\n",
            "Epoch 106: | Loss: 0.44583 | Acc: 77.749\n",
            "Epoch 107: | Loss: 0.44516 | Acc: 77.763\n",
            "Epoch 108: | Loss: 0.44500 | Acc: 77.806\n",
            "Epoch 109: | Loss: 0.44647 | Acc: 77.726\n",
            "Epoch 110: | Loss: 0.44516 | Acc: 77.818\n",
            "Epoch 111: | Loss: 0.44359 | Acc: 77.909\n",
            "Epoch 112: | Loss: 0.44349 | Acc: 77.933\n",
            "Epoch 113: | Loss: 0.44266 | Acc: 78.017\n",
            "Epoch 114: | Loss: 0.44152 | Acc: 78.074\n",
            "Epoch 115: | Loss: 0.44219 | Acc: 78.010\n",
            "Epoch 116: | Loss: 0.44152 | Acc: 78.015\n",
            "Epoch 117: | Loss: 0.44304 | Acc: 77.881\n",
            "Epoch 118: | Loss: 0.44106 | Acc: 78.106\n",
            "Epoch 119: | Loss: 0.44034 | Acc: 78.062\n",
            "Epoch 120: | Loss: 0.44017 | Acc: 78.209\n",
            "Epoch 121: | Loss: 0.43971 | Acc: 78.155\n",
            "Epoch 122: | Loss: 0.43950 | Acc: 78.252\n",
            "Epoch 123: | Loss: 0.43867 | Acc: 78.167\n",
            "Epoch 124: | Loss: 0.43897 | Acc: 78.126\n",
            "Epoch 125: | Loss: 0.43837 | Acc: 78.172\n",
            "Epoch 126: | Loss: 0.43799 | Acc: 78.192\n",
            "Epoch 127: | Loss: 0.43667 | Acc: 78.347\n",
            "Epoch 128: | Loss: 0.43846 | Acc: 78.201\n",
            "Epoch 129: | Loss: 0.43745 | Acc: 78.377\n",
            "Epoch 130: | Loss: 0.43824 | Acc: 78.330\n",
            "Epoch 131: | Loss: 0.43698 | Acc: 78.208\n",
            "Epoch 132: | Loss: 0.43740 | Acc: 78.288\n",
            "Epoch 133: | Loss: 0.43597 | Acc: 78.354\n",
            "Epoch 134: | Loss: 0.43575 | Acc: 78.416\n",
            "Epoch 135: | Loss: 0.43560 | Acc: 78.420\n",
            "Epoch 136: | Loss: 0.43422 | Acc: 78.564\n",
            "Epoch 137: | Loss: 0.43309 | Acc: 78.424\n",
            "Epoch 138: | Loss: 0.43264 | Acc: 78.579\n",
            "Epoch 139: | Loss: 0.43319 | Acc: 78.518\n",
            "Epoch 140: | Loss: 0.43344 | Acc: 78.483\n",
            "Epoch 141: | Loss: 0.43235 | Acc: 78.539\n",
            "Epoch 142: | Loss: 0.43310 | Acc: 78.513\n",
            "Epoch 143: | Loss: 0.43132 | Acc: 78.657\n",
            "Epoch 144: | Loss: 0.43201 | Acc: 78.607\n",
            "Epoch 145: | Loss: 0.43119 | Acc: 78.613\n",
            "Epoch 146: | Loss: 0.43087 | Acc: 78.709\n",
            "Epoch 147: | Loss: 0.43142 | Acc: 78.658\n",
            "Epoch 148: | Loss: 0.43066 | Acc: 78.658\n",
            "Epoch 149: | Loss: 0.43026 | Acc: 78.662\n",
            "Epoch 150: | Loss: 0.43065 | Acc: 78.738\n"
          ],
          "name": "stdout"
        },
        {
          "output_type": "display_data",
          "data": {
            "image/png": "[encoded data removed]",
            "text/plain": [
              "<Figure size 432x288 with 1 Axes>"
            ]
          },
          "metadata": {
            "tags": [],
            "needs_background": "light"
          }
        }
      ]
    },
    {
      "cell_type": "code",
      "metadata": {
        "id": "y2dRUQxG7bFw"
      },
      "source": [
        "y_pred_list = []\n",
        "model.eval()\n",
        "with torch.no_grad():\n",
        "    for X_batch in test_loader:\n",
        "        X_batch = X_batch.to(device)\n",
        "        y_test_pred = model(X_batch)\n",
        "        y_test_pred = torch.sigmoid(y_test_pred)\n",
        "        y_pred_tag = torch.round(y_test_pred)\n",
        "        y_pred_list.append(y_pred_tag.cpu().numpy())\n",
        "\n",
        "y_pred_list = [a.squeeze().tolist() for a in y_pred_list]"
      ],
      "execution_count": 86,
      "outputs": []
    },
    {
      "cell_type": "code",
      "metadata": {
        "colab": {
          "base_uri": "https://localhost:8080/"
        },
        "id": "9D9_49YF7jCS",
        "outputId": "5b521d04-40d3-4208-cd65-0e3e80021452"
      },
      "source": [
        "confusion_matrix(y_test, y_pred_list)"
      ],
      "execution_count": 87,
      "outputs": [
        {
          "output_type": "execute_result",
          "data": {
            "text/plain": [
              "array([[117,  60],\n",
              "       [ 29,  94]])"
            ]
          },
          "metadata": {
            "tags": []
          },
          "execution_count": 87
        }
      ]
    },
    {
      "cell_type": "code",
      "metadata": {
        "colab": {
          "base_uri": "https://localhost:8080/"
        },
        "id": "dNhkqw6-7kx9",
        "outputId": "42fcc631-3978-43af-f32a-7174190f168e"
      },
      "source": [
        "print(classification_report(y_test, y_pred_list))"
      ],
      "execution_count": 88,
      "outputs": [
        {
          "output_type": "stream",
          "text": [
            "              precision    recall  f1-score   support\n",
            "\n",
            "           0       0.80      0.66      0.72       177\n",
            "           1       0.61      0.76      0.68       123\n",
            "\n",
            "    accuracy                           0.70       300\n",
            "   macro avg       0.71      0.71      0.70       300\n",
            "weighted avg       0.72      0.70      0.71       300\n",
            "\n"
          ],
          "name": "stdout"
        }
      ]
    },
    {
      "cell_type": "code",
      "metadata": {
        "colab": {
          "base_uri": "https://localhost:8080/",
          "height": 204
        },
        "id": "MQL3zPVNTKUn",
        "outputId": "d067e419-bbef-4cc6-96af-f090a60aaed0"
      },
      "source": [
        "df = pd.read_csv('X_test.csv')\n",
        "\n",
        "df.head()"
      ],
      "execution_count": 89,
      "outputs": [
        {
          "output_type": "execute_result",
          "data": {
            "text/html": [
              "<div>\n",
              "<style scoped>\n",
              "    .dataframe tbody tr th:only-of-type {\n",
              "        vertical-align: middle;\n",
              "    }\n",
              "\n",
              "    .dataframe tbody tr th {\n",
              "        vertical-align: top;\n",
              "    }\n",
              "\n",
              "    .dataframe thead th {\n",
              "        text-align: right;\n",
              "    }\n",
              "</style>\n",
              "<table border=\"1\" class=\"dataframe\">\n",
              "  <thead>\n",
              "    <tr style=\"text-align: right;\">\n",
              "      <th></th>\n",
              "      <th>Col1</th>\n",
              "      <th>Col2</th>\n",
              "      <th>Col3</th>\n",
              "      <th>Col4</th>\n",
              "      <th>Col5</th>\n",
              "      <th>Col6</th>\n",
              "      <th>Col7</th>\n",
              "      <th>Col8</th>\n",
              "      <th>Col9</th>\n",
              "      <th>Col10</th>\n",
              "      <th>Col11</th>\n",
              "      <th>Col12</th>\n",
              "      <th>Col13</th>\n",
              "      <th>Col14</th>\n",
              "    </tr>\n",
              "  </thead>\n",
              "  <tbody>\n",
              "    <tr>\n",
              "      <th>0</th>\n",
              "      <td>246.00</td>\n",
              "      <td>226.0</td>\n",
              "      <td>243.27</td>\n",
              "      <td>233.43</td>\n",
              "      <td>7121.0</td>\n",
              "      <td>648.0</td>\n",
              "      <td>0.0</td>\n",
              "      <td>1.1235</td>\n",
              "      <td>5.5226</td>\n",
              "      <td>1.9747</td>\n",
              "      <td>2.3390</td>\n",
              "      <td>1.1438</td>\n",
              "      <td>5.3022</td>\n",
              "      <td>0.0</td>\n",
              "    </tr>\n",
              "    <tr>\n",
              "      <th>1</th>\n",
              "      <td>239.00</td>\n",
              "      <td>226.0</td>\n",
              "      <td>240.77</td>\n",
              "      <td>233.31</td>\n",
              "      <td>2109.0</td>\n",
              "      <td>560.0</td>\n",
              "      <td>0.0</td>\n",
              "      <td>5.7154</td>\n",
              "      <td>6.3213</td>\n",
              "      <td>1.5999</td>\n",
              "      <td>4.3318</td>\n",
              "      <td>3.1834</td>\n",
              "      <td>3.0579</td>\n",
              "      <td>0.0</td>\n",
              "    </tr>\n",
              "    <tr>\n",
              "      <th>2</th>\n",
              "      <td>251.62</td>\n",
              "      <td>232.0</td>\n",
              "      <td>245.82</td>\n",
              "      <td>233.57</td>\n",
              "      <td>199.0</td>\n",
              "      <td>14.0</td>\n",
              "      <td>0.0</td>\n",
              "      <td>3.4131</td>\n",
              "      <td>5.7395</td>\n",
              "      <td>1.2936</td>\n",
              "      <td>5.6142</td>\n",
              "      <td>2.0601</td>\n",
              "      <td>20.0000</td>\n",
              "      <td>0.0</td>\n",
              "    </tr>\n",
              "    <tr>\n",
              "      <th>3</th>\n",
              "      <td>253.00</td>\n",
              "      <td>243.0</td>\n",
              "      <td>249.18</td>\n",
              "      <td>249.18</td>\n",
              "      <td>4095.0</td>\n",
              "      <td>0.0</td>\n",
              "      <td>0.0</td>\n",
              "      <td>10.3200</td>\n",
              "      <td>2.5050</td>\n",
              "      <td>0.0000</td>\n",
              "      <td>1.5908</td>\n",
              "      <td>1.2399</td>\n",
              "      <td>20.0000</td>\n",
              "      <td>0.0</td>\n",
              "    </tr>\n",
              "    <tr>\n",
              "      <th>4</th>\n",
              "      <td>247.00</td>\n",
              "      <td>240.0</td>\n",
              "      <td>248.12</td>\n",
              "      <td>248.12</td>\n",
              "      <td>321.0</td>\n",
              "      <td>0.0</td>\n",
              "      <td>0.0</td>\n",
              "      <td>10.8170</td>\n",
              "      <td>3.4157</td>\n",
              "      <td>0.0000</td>\n",
              "      <td>4.2366</td>\n",
              "      <td>1.2236</td>\n",
              "      <td>20.0000</td>\n",
              "      <td>0.0</td>\n",
              "    </tr>\n",
              "  </tbody>\n",
              "</table>\n",
              "</div>"
            ],
            "text/plain": [
              "     Col1   Col2    Col3    Col4  ...   Col11   Col12    Col13  Col14\n",
              "0  246.00  226.0  243.27  233.43  ...  2.3390  1.1438   5.3022    0.0\n",
              "1  239.00  226.0  240.77  233.31  ...  4.3318  3.1834   3.0579    0.0\n",
              "2  251.62  232.0  245.82  233.57  ...  5.6142  2.0601  20.0000    0.0\n",
              "3  253.00  243.0  249.18  249.18  ...  1.5908  1.2399  20.0000    0.0\n",
              "4  247.00  240.0  248.12  248.12  ...  4.2366  1.2236  20.0000    0.0\n",
              "\n",
              "[5 rows x 14 columns]"
            ]
          },
          "metadata": {
            "tags": []
          },
          "execution_count": 89
        }
      ]
    },
    {
      "cell_type": "code",
      "metadata": {
        "id": "b0Prv1axUU8L"
      },
      "source": [
        "scaler = StandardScaler()\n",
        "x_test = scaler.fit_transform(df)\n",
        "test_loader = DataLoader(dataset=x_test, batch_size=1)"
      ],
      "execution_count": 90,
      "outputs": []
    },
    {
      "cell_type": "code",
      "metadata": {
        "id": "4ON8M9YdVDbq"
      },
      "source": [
        "model.eval()\n",
        "output = []\n",
        "for batch in test_loader:\n",
        "    batch = batch.to(device).float()\n",
        "    y = model(batch)\n",
        "    y = torch.sigmoid(y)\n",
        "    # y = torch.round(y)\n",
        "    y = y.data\n",
        "    y = y.cpu()\n",
        "    y = y.numpy()\n",
        "    output.append(y[0][0])"
      ],
      "execution_count": 91,
      "outputs": []
    },
    {
      "cell_type": "code",
      "metadata": {
        "id": "S_zh4angYvG6"
      },
      "source": [
        "Yte = np.vstack((np.arange(df.shape[0]), np.array(output))).T\n",
        "np.savetxt('Y_submit.txt', Yte, '%d, %.2f', header='ID,Prob1',\n",
        "           comments='', delimiter=',')"
      ],
      "execution_count": 92,
      "outputs": []
    },
    {
      "cell_type": "code",
      "metadata": {
        "id": "iRXRpy-ieR_B"
      },
      "source": [
        ""
      ],
      "execution_count": 92,
      "outputs": []
    }
  ]
}